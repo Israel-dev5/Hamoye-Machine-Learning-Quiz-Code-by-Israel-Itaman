{
 "cells": [
  {
   "cell_type": "code",
   "execution_count": 1,
   "id": "cfe2c9e5",
   "metadata": {},
   "outputs": [
    {
     "name": "stdout",
     "output_type": "stream",
     "text": [
      "       Area Code      Area  Item Code           Item  Element Code  \\\n",
      "0              4   Algeria       2501     Population           511   \n",
      "1              4   Algeria       2501     Population          5301   \n",
      "2              4   Algeria       2901    Grand Total           664   \n",
      "3              4   Algeria       2901    Grand Total           674   \n",
      "4              4   Algeria       2901    Grand Total           684   \n",
      "...          ...       ...        ...            ...           ...   \n",
      "60938        181  Zimbabwe       2899  Miscellaneous          5142   \n",
      "60939        181  Zimbabwe       2899  Miscellaneous           645   \n",
      "60940        181  Zimbabwe       2899  Miscellaneous           664   \n",
      "60941        181  Zimbabwe       2899  Miscellaneous           674   \n",
      "60942        181  Zimbabwe       2899  Miscellaneous           684   \n",
      "\n",
      "                                      Element             Unit     Y2014  \\\n",
      "0               Total Population - Both sexes     1000 persons  38924.00   \n",
      "1                    Domestic supply quantity      1000 tonnes      0.00   \n",
      "2               Food supply (kcal/capita/day)  kcal/capita/day   3377.00   \n",
      "3      Protein supply quantity (g/capita/day)     g/capita/day     94.90   \n",
      "4          Fat supply quantity (g/capita/day)     g/capita/day     80.06   \n",
      "...                                       ...              ...       ...   \n",
      "60938                                    Food      1000 tonnes     42.00   \n",
      "60939     Food supply quantity (kg/capita/yr)               kg      3.06   \n",
      "60940           Food supply (kcal/capita/day)  kcal/capita/day      3.00   \n",
      "60941  Protein supply quantity (g/capita/day)     g/capita/day      0.10   \n",
      "60942      Fat supply quantity (g/capita/day)     g/capita/day      0.04   \n",
      "\n",
      "          Y2015     Y2016     Y2017     Y2018  \n",
      "0      39728.00  40551.00  41389.00  42228.00  \n",
      "1          0.00      0.00      0.00      0.00  \n",
      "2       3379.00   3372.00   3341.00   3322.00  \n",
      "3         94.35     94.72     92.82     91.83  \n",
      "4         79.36     77.40     80.19     77.28  \n",
      "...         ...       ...       ...       ...  \n",
      "60938     46.00     33.00     19.00     16.00  \n",
      "60939      3.33      2.35      1.33      1.08  \n",
      "60940      4.00      3.00      1.00      1.00  \n",
      "60941      0.11      0.08      0.04      0.04  \n",
      "60942      0.05      0.03      0.02      0.01  \n",
      "\n",
      "[60943 rows x 12 columns]\n"
     ]
    }
   ],
   "source": [
    "import pandas as pd\n",
    "\n",
    "df = pd.read_csv('/Users/ISRAEL/Desktop/FoodBalanceSheets_E_Africa_NOFLAG.csv', encoding='latin-1')\n",
    "\n",
    "print(df)"
   ]
  },
  {
   "cell_type": "code",
   "execution_count": 30,
   "id": "9b6b0ff5",
   "metadata": {},
   "outputs": [
    {
     "name": "stdout",
     "output_type": "stream",
     "text": [
      "209460.54\n",
      "269617.53\n",
      "209460.54\n",
      "269617.53\n"
     ]
    }
   ],
   "source": [
    "# Question 11\n",
    "\n",
    "year = df[df['Item'] == 'Animal fats']\n",
    "print(year['Y2014'].sum())\n",
    "print(year['Y2017'].sum())\n",
    "\n",
    "# Or can using grouping\n",
    "\n",
    "Y2014 = df.groupby('Item')['Y2014'].sum()\n",
    "Y2017 = df.groupby('Item')['Y2017'].sum()\n",
    "\n",
    "print(Y2014['Animal fats'])\n",
    "print(Y2017['Animal fats'])"
   ]
  },
  {
   "cell_type": "code",
   "execution_count": 31,
   "id": "93c42464",
   "metadata": {},
   "outputs": [
    {
     "name": "stdout",
     "output_type": "stream",
     "text": [
      "135.236\n",
      "1603.404\n"
     ]
    }
   ],
   "source": [
    "# Question 12\n",
    "\n",
    "print(round(df['Y2015'].mean(), 3))\n",
    "print(round(df['Y2015'].std(), 3))"
   ]
  },
  {
   "cell_type": "code",
   "execution_count": 32,
   "id": "5c196b8f",
   "metadata": {},
   "outputs": [
    {
     "name": "stdout",
     "output_type": "stream",
     "text": [
      "1535\n",
      "2.52\n"
     ]
    }
   ],
   "source": [
    "# Question 13\n",
    "\n",
    "e = df['Y2016']\n",
    "\n",
    "missingData = e.isnull().sum()\n",
    "print(missingData)\n",
    "\n",
    "# Total entries expected is 60943 using highest entry count from df.describe()\n",
    "\n",
    "percentage = missingData/60943 * 100\n",
    "\n",
    "print(round(percentage, 2))"
   ]
  },
  {
   "cell_type": "code",
   "execution_count": 33,
   "id": "8ec6d92f",
   "metadata": {},
   "outputs": [
    {
     "name": "stdout",
     "output_type": "stream",
     "text": [
      "              Element Code     Y2014     Y2015     Y2016     Y2017     Y2018\n",
      "Element Code      1.000000  0.413329  0.409054  0.409987  0.413800  0.410298\n",
      "Y2014             0.413329  1.000000  0.999918  0.999793  0.999844  0.999743\n",
      "Y2015             0.409054  0.999918  1.000000  0.999913  0.999842  0.999879\n",
      "Y2016             0.409987  0.999793  0.999913  1.000000  0.999783  0.999848\n",
      "Y2017             0.413800  0.999844  0.999842  0.999783  1.000000  0.999888\n",
      "Y2018             0.410298  0.999743  0.999879  0.999848  0.999888  1.000000\n"
     ]
    }
   ],
   "source": [
    "# Question 14\n",
    "\n",
    "# Question quite difficult to decipher but here goes:\n",
    "\n",
    "e = df.groupby('Element Code')[['Element Code', 'Y2014', 'Y2015', 'Y2016', 'Y2017', 'Y2018']].sum()\n",
    "print(e.corr())\n",
    "\n",
    "# Maximum correlation is in 2017"
   ]
  },
  {
   "cell_type": "code",
   "execution_count": 34,
   "id": "080d2de2",
   "metadata": {},
   "outputs": [
    {
     "name": "stdout",
     "output_type": "stream",
     "text": [
      "Y2014    274144.48\n",
      "Y2015    267018.46\n",
      "Y2016    286582.78\n",
      "Y2017    294559.09\n",
      "Y2018    287997.09\n",
      "dtype: float64\n",
      "Y2014    274144.48\n",
      "Y2015    267018.46\n",
      "Y2016    286582.78\n",
      "Y2017    294559.09\n",
      "Y2018    287997.09\n",
      "Name: Import Quantity, dtype: float64\n"
     ]
    }
   ],
   "source": [
    "# Question 15\n",
    "\n",
    "importQuantity = df[df['Element'] == 'Import Quantity']\n",
    "\n",
    "print(importQuantity[['Y2014', 'Y2015', 'Y2016', 'Y2017', 'Y2018']].sum())\n",
    "\n",
    "# Or using grouping\n",
    "\n",
    "e = df.groupby('Element')[['Y2014', 'Y2015', 'Y2016', 'Y2017', 'Y2018']].sum()\n",
    "\n",
    "print(e.loc['Import Quantity'])\n",
    "\n",
    "# Year with the highest sum (294559.09) is 2017"
   ]
  },
  {
   "cell_type": "code",
   "execution_count": 35,
   "id": "0424069b",
   "metadata": {},
   "outputs": [
    {
     "name": "stdout",
     "output_type": "stream",
     "text": [
      "1931287.75\n"
     ]
    }
   ],
   "source": [
    "# Question 16\n",
    "\n",
    "production = df.groupby('Element')['Y2014'].sum()\n",
    "\n",
    "print(production['Production'])"
   ]
  },
  {
   "cell_type": "code",
   "execution_count": 36,
   "id": "46ba5fae",
   "metadata": {},
   "outputs": [
    {
     "name": "stdout",
     "output_type": "stream",
     "text": [
      "                              Y2018\n",
      "Element                            \n",
      "Domestic supply quantity  2161192.1\n"
     ]
    }
   ],
   "source": [
    "# Question 17\n",
    "\n",
    "elements = df.groupby('Element')[['Element', 'Y2018']].sum()\n",
    "\n",
    "# elements.max() is 2161192.1\n",
    "\n",
    "print(elements[elements.Y2018 == 2161192.1])"
   ]
  },
  {
   "cell_type": "code",
   "execution_count": 37,
   "id": "f9000dd5",
   "metadata": {},
   "outputs": [
    {
     "name": "stdout",
     "output_type": "stream",
     "text": [
      "Element\n",
      "Domestic supply quantity                  2161192.10\n",
      "Export Quantity                            181594.80\n",
      "Fat supply quantity (g/capita/day)          10258.69\n",
      "Feed                                       233489.68\n",
      "Food                                      1303841.28\n",
      "Food supply (kcal/capita/day)              455261.00\n",
      "Food supply quantity (kg/capita/yr)         49056.85\n",
      "Import Quantity                            287997.09\n",
      "Losses                                     163902.00\n",
      "Other uses (non-food)                       91300.97\n",
      "Processing                                 308429.00\n",
      "Production                                2075072.89\n",
      "Protein supply quantity (g/capita/day)      11833.56\n",
      "Residuals                                   34864.00\n",
      "Seed                                        25263.14\n",
      "Stock Variation                             20577.91\n",
      "Total Population - Both sexes             1140605.00\n",
      "Tourist consumption                            90.00\n",
      "Name: Y2018, dtype: float64\n"
     ]
    }
   ],
   "source": [
    "# Question 18\n",
    "\n",
    "thirdLowestSum = df.groupby('Element')['Y2018'].sum()\n",
    "\n",
    "print(thirdLowestSum)\n",
    "\n",
    "# Third lowest sum is 10258.69 which corresponds to Fat supply quantity (g/capita/day)"
   ]
  },
  {
   "cell_type": "code",
   "execution_count": 28,
   "id": "65ccf802",
   "metadata": {},
   "outputs": [
    {
     "name": "stdout",
     "output_type": "stream",
     "text": [
      "         Area Code  Item Code  Element Code     Y2014     Y2015     Y2016  \\\n",
      "Area                                                                        \n",
      "Algeria        448     301030        628432  34940.12  37841.91  36736.08   \n",
      "\n",
      "            Y2017     Y2018  \n",
      "Area                         \n",
      "Algeria  36059.29  36238.29  \n"
     ]
    }
   ],
   "source": [
    "# Question 19\n",
    "\n",
    "Algeria = df[(df['Area'] == 'Algeria') & (df['Element'] == 'Import Quantity')]\n",
    "\n",
    "print(Algeria.groupby('Area').sum())\n"
   ]
  },
  {
   "cell_type": "code",
   "execution_count": 29,
   "id": "89b85598",
   "metadata": {},
   "outputs": [
    {
     "name": "stdout",
     "output_type": "stream",
     "text": [
      "count     60943\n",
      "unique       49\n",
      "top       Kenya\n",
      "freq       1560\n",
      "Name: Area, dtype: object\n"
     ]
    }
   ],
   "source": [
    "# Question 20\n",
    "\n",
    "print(df['Area'].describe())"
   ]
  },
  {
   "cell_type": "code",
   "execution_count": null,
   "id": "deb43b11",
   "metadata": {},
   "outputs": [],
   "source": []
  }
 ],
 "metadata": {
  "kernelspec": {
   "display_name": "Python 3 (ipykernel)",
   "language": "python",
   "name": "python3"
  },
  "language_info": {
   "codemirror_mode": {
    "name": "ipython",
    "version": 3
   },
   "file_extension": ".py",
   "mimetype": "text/x-python",
   "name": "python",
   "nbconvert_exporter": "python",
   "pygments_lexer": "ipython3",
   "version": "3.9.7"
  }
 },
 "nbformat": 4,
 "nbformat_minor": 5
}
